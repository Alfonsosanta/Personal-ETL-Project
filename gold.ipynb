{
 "cells": [
  {
   "cell_type": "code",
   "execution_count": 1,
   "metadata": {},
   "outputs": [],
   "source": [
    "import pandas as pd\n",
    "GOLD_PATH = './Medallion Architecture/gold/'\n",
    "#29th minute begins"
   ]
  },
  {
   "cell_type": "code",
   "execution_count": 3,
   "metadata": {},
   "outputs": [],
   "source": [
    "df = pd.read_parquet('./Medallion Architecture/silver/silver_transactions.parquet')"
   ]
  },
  {
   "cell_type": "code",
   "execution_count": 4,
   "metadata": {},
   "outputs": [
    {
     "data": {
      "text/html": [
       "<div>\n",
       "<style scoped>\n",
       "    .dataframe tbody tr th:only-of-type {\n",
       "        vertical-align: middle;\n",
       "    }\n",
       "\n",
       "    .dataframe tbody tr th {\n",
       "        vertical-align: top;\n",
       "    }\n",
       "\n",
       "    .dataframe thead th {\n",
       "        text-align: right;\n",
       "    }\n",
       "</style>\n",
       "<table border=\"1\" class=\"dataframe\">\n",
       "  <thead>\n",
       "    <tr style=\"text-align: right;\">\n",
       "      <th></th>\n",
       "      <th>Student Name</th>\n",
       "      <th>House</th>\n",
       "      <th>Year</th>\n",
       "      <th>Wand Type</th>\n",
       "      <th>Pet</th>\n",
       "      <th>Potions Grade</th>\n",
       "      <th>Defense Against the Dark Arts Grade</th>\n",
       "      <th>Transfiguration Grade</th>\n",
       "      <th>Spells Learned</th>\n",
       "      <th>Quidditch Position</th>\n",
       "      <th>Points Earned for House</th>\n",
       "      <th>Detentions</th>\n",
       "      <th>Participation in Dueling Club</th>\n",
       "      <th>Triwizard Tournament Involvement</th>\n",
       "      <th>Items Owned</th>\n",
       "      <th>Knuts Spent in Hogsmeade</th>\n",
       "      <th>Attendance at Classes</th>\n",
       "      <th>Magical Accidents</th>\n",
       "      <th>fileName</th>\n",
       "      <th>loadDatetimeStamp</th>\n",
       "    </tr>\n",
       "  </thead>\n",
       "  <tbody>\n",
       "    <tr>\n",
       "      <th>0</th>\n",
       "      <td>Seamus Potter</td>\n",
       "      <td>Slytherin</td>\n",
       "      <td>2</td>\n",
       "      <td>9 inches, elm, veela hair core</td>\n",
       "      <td>Dragon</td>\n",
       "      <td>Outstanding</td>\n",
       "      <td>Exceeds Expectations</td>\n",
       "      <td>Outstanding</td>\n",
       "      <td>26</td>\n",
       "      <td>Beater</td>\n",
       "      <td>-100</td>\n",
       "      <td>3</td>\n",
       "      <td>No</td>\n",
       "      <td>No</td>\n",
       "      <td>Time-Turner, Marauder's Map</td>\n",
       "      <td>88</td>\n",
       "      <td>74</td>\n",
       "      <td>5</td>\n",
       "      <td>Hogwarts_Student_Data_20240101.csv</td>\n",
       "      <td>2024-12-13 10:31:43.870128</td>\n",
       "    </tr>\n",
       "    <tr>\n",
       "      <th>1</th>\n",
       "      <td>Ginny Spinnet</td>\n",
       "      <td>Gryffindor</td>\n",
       "      <td>6</td>\n",
       "      <td>9 inches, elm, veela hair core</td>\n",
       "      <td>Cat</td>\n",
       "      <td>Exceeds Expectations</td>\n",
       "      <td>Acceptable</td>\n",
       "      <td>Outstanding</td>\n",
       "      <td>11</td>\n",
       "      <td>Chaser</td>\n",
       "      <td>139</td>\n",
       "      <td>2</td>\n",
       "      <td>No</td>\n",
       "      <td>No</td>\n",
       "      <td>Firebolt, Sneakoscope, Extendable Ears</td>\n",
       "      <td>99</td>\n",
       "      <td>67</td>\n",
       "      <td>6</td>\n",
       "      <td>Hogwarts_Student_Data_20240101.csv</td>\n",
       "      <td>2024-12-13 10:31:43.870128</td>\n",
       "    </tr>\n",
       "    <tr>\n",
       "      <th>2</th>\n",
       "      <td>Padma Parkinson</td>\n",
       "      <td>Gryffindor</td>\n",
       "      <td>4</td>\n",
       "      <td>11 inches, holly, phoenix feather core</td>\n",
       "      <td>Muggle Born</td>\n",
       "      <td>Outstanding</td>\n",
       "      <td>Acceptable</td>\n",
       "      <td>Outstanding</td>\n",
       "      <td>19</td>\n",
       "      <td>Seeker</td>\n",
       "      <td>93</td>\n",
       "      <td>2</td>\n",
       "      <td>No</td>\n",
       "      <td>No</td>\n",
       "      <td>Invisibility Cloak</td>\n",
       "      <td>342</td>\n",
       "      <td>88</td>\n",
       "      <td>6</td>\n",
       "      <td>Hogwarts_Student_Data_20240101.csv</td>\n",
       "      <td>2024-12-13 10:31:43.870128</td>\n",
       "    </tr>\n",
       "    <tr>\n",
       "      <th>3</th>\n",
       "      <td>Unknown Student</td>\n",
       "      <td>Ravenclaw</td>\n",
       "      <td>1</td>\n",
       "      <td>12 inches, yew, unicorn hair core</td>\n",
       "      <td>Toad</td>\n",
       "      <td>Exceeds Expectations</td>\n",
       "      <td>Exceeds Expectations</td>\n",
       "      <td>Exceeds Expectations</td>\n",
       "      <td>16</td>\n",
       "      <td>Seeker</td>\n",
       "      <td>-73</td>\n",
       "      <td>2</td>\n",
       "      <td>No</td>\n",
       "      <td>Unknown Triwizard</td>\n",
       "      <td>Time-Turner</td>\n",
       "      <td>233</td>\n",
       "      <td>45</td>\n",
       "      <td>5</td>\n",
       "      <td>Hogwarts_Student_Data_20240101.csv</td>\n",
       "      <td>2024-12-13 10:31:43.870128</td>\n",
       "    </tr>\n",
       "    <tr>\n",
       "      <th>4</th>\n",
       "      <td>Unknown Student</td>\n",
       "      <td>Ravenclaw</td>\n",
       "      <td>1</td>\n",
       "      <td>10 inches, oak, dragon heartstring core</td>\n",
       "      <td>Owl</td>\n",
       "      <td>-1</td>\n",
       "      <td>Outstanding</td>\n",
       "      <td>Exceeds Expectations</td>\n",
       "      <td>9</td>\n",
       "      <td>Keeper</td>\n",
       "      <td>90</td>\n",
       "      <td>0</td>\n",
       "      <td>No</td>\n",
       "      <td>Yes</td>\n",
       "      <td>Marauder's Map, Sneakoscope</td>\n",
       "      <td>473</td>\n",
       "      <td>27</td>\n",
       "      <td>7</td>\n",
       "      <td>Hogwarts_Student_Data_20240101.csv</td>\n",
       "      <td>2024-12-13 10:31:43.870128</td>\n",
       "    </tr>\n",
       "  </tbody>\n",
       "</table>\n",
       "</div>"
      ],
      "text/plain": [
       "      Student Name       House  Year                                Wand Type  \\\n",
       "0    Seamus Potter   Slytherin     2           9 inches, elm, veela hair core   \n",
       "1    Ginny Spinnet  Gryffindor     6           9 inches, elm, veela hair core   \n",
       "2  Padma Parkinson  Gryffindor     4   11 inches, holly, phoenix feather core   \n",
       "3  Unknown Student   Ravenclaw     1        12 inches, yew, unicorn hair core   \n",
       "4  Unknown Student   Ravenclaw     1  10 inches, oak, dragon heartstring core   \n",
       "\n",
       "           Pet         Potions Grade Defense Against the Dark Arts Grade  \\\n",
       "0       Dragon           Outstanding                Exceeds Expectations   \n",
       "1          Cat  Exceeds Expectations                          Acceptable   \n",
       "2  Muggle Born           Outstanding                          Acceptable   \n",
       "3         Toad  Exceeds Expectations                Exceeds Expectations   \n",
       "4          Owl                    -1                         Outstanding   \n",
       "\n",
       "  Transfiguration Grade  Spells Learned Quidditch Position  \\\n",
       "0           Outstanding              26             Beater   \n",
       "1           Outstanding              11             Chaser   \n",
       "2           Outstanding              19             Seeker   \n",
       "3  Exceeds Expectations              16             Seeker   \n",
       "4  Exceeds Expectations               9             Keeper   \n",
       "\n",
       "   Points Earned for House  Detentions Participation in Dueling Club  \\\n",
       "0                     -100           3                            No   \n",
       "1                      139           2                            No   \n",
       "2                       93           2                            No   \n",
       "3                      -73           2                            No   \n",
       "4                       90           0                            No   \n",
       "\n",
       "  Triwizard Tournament Involvement                             Items Owned  \\\n",
       "0                               No             Time-Turner, Marauder's Map   \n",
       "1                               No  Firebolt, Sneakoscope, Extendable Ears   \n",
       "2                               No                      Invisibility Cloak   \n",
       "3                Unknown Triwizard                             Time-Turner   \n",
       "4                              Yes             Marauder's Map, Sneakoscope   \n",
       "\n",
       "   Knuts Spent in Hogsmeade  Attendance at Classes  Magical Accidents  \\\n",
       "0                        88                     74                  5   \n",
       "1                        99                     67                  6   \n",
       "2                       342                     88                  6   \n",
       "3                       233                     45                  5   \n",
       "4                       473                     27                  7   \n",
       "\n",
       "                             fileName          loadDatetimeStamp  \n",
       "0  Hogwarts_Student_Data_20240101.csv 2024-12-13 10:31:43.870128  \n",
       "1  Hogwarts_Student_Data_20240101.csv 2024-12-13 10:31:43.870128  \n",
       "2  Hogwarts_Student_Data_20240101.csv 2024-12-13 10:31:43.870128  \n",
       "3  Hogwarts_Student_Data_20240101.csv 2024-12-13 10:31:43.870128  \n",
       "4  Hogwarts_Student_Data_20240101.csv 2024-12-13 10:31:43.870128  "
      ]
     },
     "execution_count": 4,
     "metadata": {},
     "output_type": "execute_result"
    }
   ],
   "source": [
    "df.head()"
   ]
  },
  {
   "cell_type": "code",
   "execution_count": 6,
   "metadata": {},
   "outputs": [
    {
     "name": "stdout",
     "output_type": "stream",
     "text": [
      "<class 'pandas.core.frame.DataFrame'>\n",
      "RangeIndex: 48000 entries, 0 to 47999\n",
      "Data columns (total 20 columns):\n",
      " #   Column                               Non-Null Count  Dtype         \n",
      "---  ------                               --------------  -----         \n",
      " 0   Student Name                         48000 non-null  string        \n",
      " 1   House                                48000 non-null  string        \n",
      " 2   Year                                 48000 non-null  int32         \n",
      " 3   Wand Type                            48000 non-null  string        \n",
      " 4   Pet                                  48000 non-null  string        \n",
      " 5   Potions Grade                        48000 non-null  string        \n",
      " 6   Defense Against the Dark Arts Grade  48000 non-null  string        \n",
      " 7   Transfiguration Grade                48000 non-null  string        \n",
      " 8   Spells Learned                       48000 non-null  int32         \n",
      " 9   Quidditch Position                   48000 non-null  string        \n",
      " 10  Points Earned for House              48000 non-null  int32         \n",
      " 11  Detentions                           48000 non-null  int32         \n",
      " 12  Participation in Dueling Club        48000 non-null  string        \n",
      " 13  Triwizard Tournament Involvement     48000 non-null  string        \n",
      " 14  Items Owned                          48000 non-null  string        \n",
      " 15  Knuts Spent in Hogsmeade             48000 non-null  int32         \n",
      " 16  Attendance at Classes                48000 non-null  int32         \n",
      " 17  Magical Accidents                    48000 non-null  int32         \n",
      " 18  fileName                             48000 non-null  string        \n",
      " 19  loadDatetimeStamp                    48000 non-null  datetime64[ns]\n",
      "dtypes: datetime64[ns](1), int32(7), string(12)\n",
      "memory usage: 6.0 MB\n"
     ]
    }
   ],
   "source": [
    "df.info()"
   ]
  },
  {
   "cell_type": "code",
   "execution_count": 20,
   "metadata": {},
   "outputs": [
    {
     "name": "stdout",
     "output_type": "stream",
     "text": [
      "Most Frequently owned Pet:\n",
      "            Pet  catchCount\n",
      "0          Cat        8117\n",
      "1  Muggle Born        8048\n",
      "2         Toad        8031\n",
      "3  Unknown Pet        7946\n",
      "4          Owl        7945\n",
      "5       Dragon        7913\n"
     ]
    }
   ],
   "source": [
    "top_Pet = df['Pet'].value_counts().head(20).reset_index()\n",
    "top_Pet.columns = ['Pet', 'catchCount']\n",
    "print('Most Frequently owned Pet:\\n', top_Pet)\n",
    "top_Pet.to_parquet(f'{GOLD_PATH}gold_top_Pet_.parquet', index=False)"
   ]
  },
  {
   "cell_type": "code",
   "execution_count": 18,
   "metadata": {},
   "outputs": [
    {
     "name": "stdout",
     "output_type": "stream",
     "text": [
      "\n",
      "Average Magical accidents by Defense Against the Dark Arts Grade:\n",
      "   Defense Against the Dark Arts Grade  Magical Accidents\n",
      "0                          Acceptable           5.017646\n",
      "1                Exceeds Expectations           5.004845\n",
      "2                         Outstanding           4.964702\n",
      "3                                Poor           4.992159\n"
     ]
    }
   ],
   "source": [
    "average_magical_accidents_by_Defense = df.groupby('Defense Against the Dark Arts Grade')['Magical Accidents'].mean().reset_index()\n",
    "average_magical_accidents_by_Defense.columns = ['Defense Against the Dark Arts Grade', 'Magical Accidents']\n",
    "print('\\nAverage Magical accidents by Defense Against the Dark Arts Grade:\\n', average_magical_accidents_by_Defense)\n",
    "average_magical_accidents_by_Defense.to_parquet(f'{GOLD_PATH}gold_average_magical_accidents_by_Defense', index=False)"
   ]
  },
  {
   "cell_type": "code",
   "execution_count": 19,
   "metadata": {},
   "outputs": [
    {
     "name": "stdout",
     "output_type": "stream",
     "text": [
      "\n",
      "Total points Acquired by House:\n",
      "            House  Points Earned for House\n",
      "0     Gryffindor                   548300\n",
      "1     Hufflepuff                   564121\n",
      "2      Ravenclaw                   534138\n",
      "3      Slytherin                   552904\n",
      "4  Unknown house                   204070\n"
     ]
    }
   ],
   "source": [
    "total_points_by_House = df.groupby('House')['Points Earned for House'].sum().reset_index()\n",
    "total_points_by_House.columns = ['House', 'Points Earned for House']\n",
    "print(\"\\nTotal points Acquired by House:\\n\", total_points_by_House)\n",
    "total_points_by_House.to_parquet(f'{GOLD_PATH}gold_total_points_by_House.parquet', index=False) "
   ]
  },
  {
   "cell_type": "code",
   "execution_count": 22,
   "metadata": {},
   "outputs": [
    {
     "name": "stdout",
     "output_type": "stream",
     "text": [
      "\n",
      "Average Detentions by House:\n",
      "            House  Detentions\n",
      "0     Gryffindor    2.506106\n",
      "1     Hufflepuff    2.482661\n",
      "2      Ravenclaw    2.495156\n",
      "3      Slytherin    2.494372\n",
      "4  Unknown house    2.523000\n"
     ]
    }
   ],
   "source": [
    "#DO GROUPBY COPY EXAMPLE 2\n",
    "average_Detentions_by_House = df.groupby('House')['Detentions'].mean().reset_index()\n",
    "average_Detentions_by_House.columns = ['House', 'Detentions']\n",
    "print('\\nAverage Detentions by House:\\n', average_Detentions_by_House)\n",
    "average_Detentions_by_House.to_parquet(f'{GOLD_PATH}gold_average_Detentions_by_House', index=False)"
   ]
  }
 ],
 "metadata": {
  "kernelspec": {
   "display_name": "Python 3",
   "language": "python",
   "name": "python3"
  },
  "language_info": {
   "codemirror_mode": {
    "name": "ipython",
    "version": 3
   },
   "file_extension": ".py",
   "mimetype": "text/x-python",
   "name": "python",
   "nbconvert_exporter": "python",
   "pygments_lexer": "ipython3",
   "version": "3.12.5"
  }
 },
 "nbformat": 4,
 "nbformat_minor": 2
}
